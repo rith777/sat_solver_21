{
 "cells": [
  {
   "cell_type": "code",
   "execution_count": null,
   "metadata": {},
   "outputs": [
    {
     "ename": "",
     "evalue": "",
     "output_type": "error",
     "traceback": [
      "\u001b[1;31mRunning cells with 'Python 2.7.18' requires the ipykernel package.\n",
      "\u001b[1;31mRun the following command to install 'ipykernel' into the Python environment. \n",
      "\u001b[1;31mCommand: '/bin/python2 -m pip install ipykernel -U --user --force-reinstall'"
     ]
    }
   ],
   "source": [
    "import pandas as pd\n",
    "import matplotlib.pyplot as plt\n",
    "import numpy as np\n",
    "\n",
    "file_path = \"/home/abdullah/Downloads/experiment_results.csv\"\n",
    "\n",
    "data = pd.read_csv(file_path)\n",
    "\n",
    "# Create a DataFrame\n",
    "df = pd.DataFrame(data)\n",
    "\n",
    "print(df.columns)\n",
    "\n",
    "\n"
   ]
  },
  {
   "cell_type": "code",
   "execution_count": null,
   "metadata": {},
   "outputs": [],
   "source": [
    "# Relevant averages\n",
    "averages = {\n",
    "    \"DPLL_Conflicts\": df[\"basic_DPLL_conflicts\"].mean(),\n",
    "    \"CHB_Conflicts\": df[\"CHB_conflicts_counter\"].mean(),\n",
    "    \"VSIDS_Conflicts\": df[\"VSIDS_conflicts_counter\"].mean(),\n",
    "    \"DPLL_Decisions\": df[\"basic_DPLL_decisions\"].mean(),\n",
    "    \"CHB_Decisions\": df[\"CHB_decision_counter\"].mean(),\n",
    "    \"VSIDS_Decisions\": df[\"VSIDS_decision_counter\"].mean(),\n",
    "    \"DPLL_Implications\": df[\"basic_DPLL_implications\"].mean(),\n",
    "    \"CHB_Implications\": df[\"CHB_implications_counter\"].mean(),\n",
    "    \"VSIDS_Implications\": df[\"VSIDS_implications_counter\"].mean(),\n",
    "    \"DPLL_Elapsed_Time\": df[\"basic_DPLL_elapsed_time\"].mean(),\n",
    "    \"CHB_Elapsed_Time\": df[\"CHB_elapsed_time\"].mean(),\n",
    "    \"VSIDS_Elapsed_Time\": df[\"VSIDS_elapsed_time\"].mean(),\n",
    "    \"CHB_Learned_Clauses\": df[\"CHB_learned_counter\"].mean(),\n",
    "    \"VSIDS_Learned_Clauses\": df[\"VSIDS_learned_counter\"].mean(),\n",
    "}"
   ]
  },
  {
   "cell_type": "code",
   "execution_count": null,
   "metadata": {},
   "outputs": [],
   "source": [
    "\n",
    "metrics = ['Conflicts', 'Decisions']\n",
    "dpll_values = [averages['DPLL_Conflicts'], averages['DPLL_Decisions']]\n",
    "chb_values = [averages['CHB_Conflicts'], averages['CHB_Decisions']]\n",
    "vsids_values = [averages['VSIDS_Conflicts'], averages['VSIDS_Decisions']]\n"
   ]
  },
  {
   "cell_type": "code",
   "execution_count": null,
   "metadata": {},
   "outputs": [],
   "source": [
    "#  Implications data\n",
    "implications = {\n",
    "    \"DPLL\": averages[\"DPLL_Implications\"],\n",
    "    \"CHB\": averages[\"CHB_Implications\"],\n",
    "    \"VSIDS\": averages[\"VSIDS_Implications\"],\n",
    "}\n",
    "solvers = list(implications.keys())\n",
    "implication_values = list(implications.values())\n",
    "\n",
    "elapsed_time = [averages[\"DPLL_Elapsed_Time\"], averages[\"CHB_Elapsed_Time\"], averages[\"VSIDS_Elapsed_Time\"]]"
   ]
  },
  {
   "cell_type": "code",
   "execution_count": null,
   "metadata": {},
   "outputs": [],
   "source": [
    "\n",
    "# Create subplots\n",
    "fig, axes = plt.subplots(3, 1, figsize=(10, 12))\n",
    "\n",
    "# First subplot: Comparison of Conflicts and Decisions\n",
    "ax1 = axes[0]\n",
    "bar_width = 0.25  # width of the bars\n",
    "x = range(len(metrics))  # x positions for each metric\n",
    "ax1.bar(x, dpll_values, width=bar_width, label='DPLL', color='red', alpha=0.7)\n",
    "ax1.bar([p + bar_width for p in x], chb_values, width=bar_width, label='CHB', color='orange', alpha=0.7)\n",
    "ax1.bar([p + 2*bar_width for p in x], vsids_values, width=bar_width, label='VSIDS', color='green', alpha=0.7)\n",
    "ax1.set_title(\"Comparison of Conflicts and Decisions\")\n",
    "ax1.set_xlabel(\"Metrics\")\n",
    "ax1.set_ylabel(\"Average Values\")\n",
    "ax1.set_xticks([p + bar_width for p in x])\n",
    "ax1.set_xticklabels(metrics)\n",
    "ax1.legend()\n",
    "ax1.grid(axis='y', linestyle='--', alpha=0.6)\n",
    "\n",
    "# Second subplot: Implications\n",
    "ax2 = axes[1]\n",
    "ax2.bar(solvers, implication_values, color=['red', 'orange', 'green'], alpha=0.7)\n",
    "ax2.set_title(\"Average Number of Implications\")\n",
    "ax2.set_xlabel(\"SAT Solvers\")\n",
    "ax2.set_ylabel(\"Average Implications\")\n",
    "ax2.grid(axis='y', linestyle='--', alpha=0.6)\n",
    "\n",
    "ax3 = axes[2]\n",
    "ax3.bar(solvers, elapsed_time, color=['red', 'orange', 'green'], alpha=0.7)\n",
    "ax3.set_title(\"Average of Elapsed time\")\n",
    "ax3.set_xlabel(\"SAT Solvers\")\n",
    "ax3.set_ylabel(\"Average time\")\n",
    "ax3.grid(axis='y', linestyle='--', alpha=0.6)\n",
    "\n",
    "# Adjust layout\n",
    "plt.tight_layout()\n",
    "plt.show()\n"
   ]
  },
  {
   "cell_type": "code",
   "execution_count": null,
   "metadata": {},
   "outputs": [],
   "source": [
    "\n",
    "# Elapsed time averages \n",
    "elapsed_time_averages = {\n",
    "    \"DPLL\": averages[\"DPLL_Elapsed_Time\"],\n",
    "    \"CHB\": averages[\"CHB_Elapsed_Time\"],\n",
    "    \"VSIDS\": averages[\"VSIDS_Elapsed_Time\"],\n",
    "}\n",
    "\n",
    "\n",
    "solvers = list(elapsed_time_averages.keys())\n",
    "elapsed_time_values = list(elapsed_time_averages.values())\n",
    "\n",
    "# Plot the bar graph for elapsed time\n",
    "plt.figure(figsize=(8, 5))\n",
    "plt.bar(solvers, elapsed_time_values, color=['red', 'orange', 'green'], alpha=0.7)\n",
    "plt.title(\"Average Elapsed Time for DPLL, CHB, and VSIDS\")\n",
    "plt.xlabel(\"SAT Solvers\")\n",
    "plt.ylabel(\"Average Elapsed Time (seconds)\")\n",
    "plt.grid(axis='y', linestyle='--', alpha=0.6)\n",
    "plt.tight_layout()\n",
    "plt.show()"
   ]
  },
  {
   "cell_type": "code",
   "execution_count": null,
   "metadata": {},
   "outputs": [],
   "source": [
    "\n",
    "learned_clauses_averages = {\n",
    "    \"CHB\": averages[\"CHB_Learned_Clauses\"],\n",
    "    \"VSIDS\": averages[\"VSIDS_Learned_Clauses\"]\n",
    "}\n",
    "\n",
    "# Extract data for plotting\n",
    "cdcl_solvers = list(learned_clauses_averages.keys())\n",
    "learned_clauses_values = list(learned_clauses_averages.values())\n",
    "\n",
    "# Plot the bar graph for learned clauses\n",
    "plt.figure(figsize=(8, 5))\n",
    "plt.bar(cdcl_solvers, learned_clauses_values, color=['orange', 'green'], alpha=0.7)\n",
    "plt.title(\"Average Number of Learned Clauses for CDCL Solvers (CHB and VSIDS)\")\n",
    "plt.xlabel(\"CDCL Solvers\")\n",
    "plt.ylabel(\"Average Learned Clauses\")\n",
    "plt.grid(axis='y', linestyle='--', alpha=0.6)\n",
    "plt.tight_layout()\n",
    "plt.show()\n"
   ]
  },
  {
   "cell_type": "code",
   "execution_count": null,
   "metadata": {},
   "outputs": [],
   "source": [
    "# Scatter plot for conflicts for DPLL, CHB, and VSIDS\n",
    "plt.figure(figsize=(10, 6))\n",
    "plt.scatter([\"DPLL\"] * len(df), df[\"basic_DPLL_conflicts\"], color='red', label=\"DPLL Conflicts\")\n",
    "plt.scatter([\"CHB\"] * len(df), df[\"CHB_conflicts_counter\"], color='orange', label=\"CHB Conflicts\")\n",
    "plt.scatter([\"VSIDS\"] * len(df), df[\"VSIDS_conflicts_counter\"], color='green', label=\"VSIDS Conflicts\")\n",
    "plt.title(\"Conflicts Comparison Across Solvers\")\n",
    "plt.xlabel(\"Solver\")\n",
    "plt.ylabel(\"Number of Conflicts\")\n",
    "plt.legend()\n",
    "plt.show()\n"
   ]
  },
  {
   "cell_type": "code",
   "execution_count": null,
   "metadata": {},
   "outputs": [],
   "source": [
    "data_chb = pd.read_csv('/home/abdullah/Downloads/cbh_history.csv')\n",
    "\n",
    "# Create a DataFrame\n",
    "df_chb = pd.DataFrame(data_chb)\n",
    "\n",
    "data_vsids = pd.read_csv('/home/abdullah/Downloads/vsids_history.csv')\n",
    "\n",
    "# Create a DataFrame\n",
    "df_vsids = pd.DataFrame(data_vsids)\n",
    "\n",
    "# Convert datetime column to datetime objects\n",
    "df_chb['datetime'] = pd.to_datetime(df_chb['datetime'], errors='coerce')\n",
    "df_vsids['datetime'] = pd.to_datetime(df_vsids['datetime'], errors='coerce')\n",
    "\n",
    "# Aggregate by 1-minute intervals, summing counts\n",
    "df_aggregated_vsids = df_vsids.set_index('datetime').resample('1T').sum().reset_index()\n",
    "df_aggregated_chb = df_chb.set_index('datetime').resample('1T').sum().reset_index()\n",
    "\n",
    "print(df_chb.head)\n",
    "print(df_chb.columns)\n",
    "print(df_chb['datetime'].dtype)"
   ]
  },
  {
   "cell_type": "code",
   "execution_count": null,
   "metadata": {},
   "outputs": [],
   "source": [
    "time_steps_chb = df_aggregated_chb['datetime'].to_numpy()\n",
    "conflicts_chb = df_aggregated_chb['count'].to_numpy()\n",
    "\n",
    "conflicts_vsids = df_aggregated_vsids['count'].to_numpy()\n",
    "time_steps_vsids = df_aggregated_vsids['datetime'].to_numpy()\n",
    "\n",
    "\n",
    "# Plotting conflicts over time\n",
    "plt.figure(figsize=(10, 6))\n",
    "plt.plot(time_steps_vsids, conflicts_chb, marker='s', linestyle='--', label=\"CHB\", color='orange')\n",
    "plt.plot(time_steps_vsids, conflicts_vsids, marker='^', linestyle='-.', label=\"VSIDS\", color='green')\n",
    "\n",
    "# Graph details\n",
    "plt.title(\"Total Conflicts over Time (Resampled by Minute)\")\n",
    "plt.xlabel(\"Time Steps\")\n",
    "plt.ylabel(\"Number of Conflicts\")\n",
    "plt.legend()\n",
    "plt.grid(True)\n",
    "plt.show()"
   ]
  }
 ],
 "metadata": {
  "kernelspec": {
   "display_name": "Python 3",
   "language": "python",
   "name": "python3"
  },
  "language_info": {
   "name": "python",
   "version": "2.7.18"
  }
 },
 "nbformat": 4,
 "nbformat_minor": 2
}
